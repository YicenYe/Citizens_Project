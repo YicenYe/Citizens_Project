{
 "cells": [
  {
   "cell_type": "markdown",
   "metadata": {},
   "source": [
    "categorical: "
   ]
  },
  {
   "cell_type": "markdown",
   "metadata": {},
   "source": [
    "There are 48 feactures in the data, including \n",
    "\n",
    "- Customer & Account Info\n",
    "    - masked_dep_acct_num: Deposit account number randomly encoded to integers (between 0 and 24,690)\n",
    "    - masked_bank_num: Masked bank number of debitor randomly masked to integer values between 0 and 7. there are 7 types, the most is 0\n",
    "    - masked_account_type: Masked account type of depositor mapped to random values of [0, 1, 2, 3, 4]. there are 5 account types. Assume checking/saving/...\n",
    "    - masked_id: another unique value but different with acct_num.\n",
    "    - masked_product_code: Masked citizens bank product code mapped to random integer values between 0 and 23.\n",
    "    - bucket_days_since_open: Bucketed number of days since the account was open: ranges are [\"0-1000\", '1000-2000', '2000-5000', '5000+']\n",
    "   - **number_of_owners**: observed that some records have number_of_owners equal to 0, which is logically inconsistent with standard banking operations.\n",
    "\n",
    "\n",
    "\n",
    "- Transaction Info\n",
    "    - total_deposit_amount: Total amount deposited, Log scale need\n",
    "    - item_amt: Amount of a particular transaction. Amount of deposited item\n",
    "    - deposit_dt: 2024-02-07 to 2024-11-29. Date of deposit.\n",
    "    - channel: Channel of deposit. The channel has only one channel, “TELLER”. CAN BE delete\n",
    "    - **relationship_balance**: The average value is negative, which indicates the presence of a significant number of negative entries, and some of them may have large magnitudes. The minimum value is -100 million, which is clearly an outlier or may point to a potential accounting issue.\n",
    "    - oao_flg: Most accounts  are not open in the online. This flag indicates if the account was originated through the digital channel.\n",
    "    - onus_ind: Most are not on us bank checks. Indicator for if the check is on us\n",
    "    - treasury_check_ind: Most are not. Indicates if the maker of the check is Citizens (i.e.,the payeer is a Citizens acct.)\n",
    "    - heloc_ind: Most are not. Indicates if this is HELOC check. home equity line of credit accounts (HELOC)\n",
    "\n",
    "- Summary Vars\n",
    "    - rdis: This is the total number of return deposits items for the account.\n",
    "    - max_deposit_amount30d: Maximum deposit over the past 30 days\n",
    "    - total_deposit_item_count: Total number of deposit items in the account's history\n",
    "    - prevtran1 - prevtran10:  Amount of Xth previous transaction prior to current deposit\n",
    "    - prevtrandate1 - prevtrandate10: Date of Xth previous transaction prior to current deposit\n",
    "    - drawee_sum: This is the total $ deposited into the account from the payeer in the previous month.\n",
    "    - drawee_cnt: This is the total volume deposited into the account from the payeer in the previous month\n",
    "    - drawee_avg: This is the avg item $ deposited into the account from the payeer in the previous month\n",
    "    - drawee_max: This is the max item $ deposited into the account from the payeer in the previous month\n",
    "    - drawee_min: This is the min item $ deposited into the account from the payeer in the previous month\n",
    "\n",
    "\n",
    "- Target Info\n",
    "    - RDI_DT: This is the min item $ deposited into the account from the payeer in the previous month\n",
    "    - RETURN_REASON: The return reason. This provides context to target.\n",
    "    - return_target: This is the target for this study.\n",
    "    - over_draft_amount: The amount that the account is overdrafted previous day"
   ]
  },
  {
   "cell_type": "markdown",
   "metadata": {},
   "source": [
    "missing values\n",
    "- MICE\n",
    "- Relationship Balance\n",
    "- 0 bank owner\n",
    "- total_deposit_amount: entire deposit; item_amt: individual item amount; total_deposit_amount_count: \n",
    "- over_draft_amount\n",
    "- rdi having negative correlation\n",
    "- prevtran and prevtrandate, \n",
    "\n",
    "\n",
    "- prevtran: three small amount then a large amount --> fraud\n",
    "\n",
    "\n",
    "Tasks\n",
    "- table for missinhg value, imputation? logic? another collumn, propose imputation values\n",
    "- number of owners: how to present visual\n",
    "- on prevtran: maybe add a feature on how many transaction for each date? \n",
    "- over_draft_amount: maybe to validate model? Class [0,22]\n",
    "- Return reason: also class\n",
    "- profile data, minmax unique or value count, describe() for all field, \n",
    "    - convert datatype\n",
    "- Feature engineer:\n",
    "    - pre transactions --> capture trend, summary, potential relationship\n",
    "    - start from WHAT are we trying to capture and then how! \n",
    "    - excel for brainstorm field engineer\n",
    "    - \n",
    "\n",
    "Beseline\n",
    "- interpretable\n",
    "\n",
    "\n",
    "model\n",
    "- sumamry of behaviour\n",
    "- have individual lagged values\n",
    "- Random forest/decision tree for these behaviorus\n",
    "    - do not make the tree too depp -> feature engineer\n",
    "- grouped for users\n",
    "- \n"
   ]
  },
  {
   "cell_type": "code",
   "execution_count": null,
   "metadata": {
    "vscode": {
     "languageId": "plaintext"
    }
   },
   "outputs": [],
   "source": [
    "df1 = pd.read_excel(\"/users/yye45/data/yye45/citizens_data/BrownDSI_Final_Capstone_Data_Dict.xlsx_20250401031453\")\n",
    "df1"
   ]
  },
  {
   "cell_type": "markdown",
   "metadata": {},
   "source": []
  }
 ],
 "metadata": {
  "language_info": {
   "name": "python"
  }
 },
 "nbformat": 4,
 "nbformat_minor": 2
}
